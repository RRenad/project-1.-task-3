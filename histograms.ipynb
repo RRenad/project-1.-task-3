{
 "cells": [
  {
   "cell_type": "markdown",
   "metadata": {
    "colab_type": "text",
    "id": "ePC1v3rP9t77"
   },
   "source": [
    "# Task 3\n",
    "\n",
    "You are given a list of scores obtained in a certain exam, using Python:\n",
    "\n",
    "1. plot its histogram and\n",
    "1. test the normality using one-sided Chi-squared test. \n",
    "\n",
    "\n",
    "### Notes\n",
    "\n",
    "* Use [numpy.histogram](https://docs.scipy.org/doc/numpy-1.15.0/reference/generated/numpy.histogram.html) that **takes** as an input *the data* and *bins count* and **generates** the *bins edges* and *the count at each bin*.\n",
    "* Use sturges rule to estimate the number of bins:  $K = 1 +  \\log_2( N )$.\n",
    "* In order to plot the histogram, use the function [matplotlib.pyplot.hist](https://matplotlib.org/api/_as_gen/matplotlib.pyplot.hist.html).\n",
    "* Use the [scipy.stats.chisquare](https://docs.scipy.org/doc/scipy/reference/generated/scipy.stats.chisquare.html), to test the goodness of fitting for the given data to the normal distribution.\n",
    "* In order to get the expected number within a specified interval in gaussian distribution, use [scipy.stats.norm](https://docs.scipy.org/doc/scipy/reference/generated/scipy.stats.norm.html)\n",
    "\n"
   ]
  },
  {
   "cell_type": "markdown",
   "metadata": {
    "colab_type": "text",
    "id": "ms0QC3dcF7J1"
   },
   "source": [
    "## A) Load the data into Numpy array (done)"
   ]
  },
  {
   "cell_type": "code",
   "execution_count": 26,
   "metadata": {
    "colab": {},
    "colab_type": "code",
    "id": "Gp4fD7PQF-QX"
   },
   "outputs": [],
   "source": [
    "import pandas as pd\n",
    "import numpy as np\n",
    "url = 'https://raw.githubusercontent.com/sbme-tutorials/sbe2016-measurements-lab/master/mt-grades.csv'\n",
    "df1 = pd.read_csv(url)\n",
    "grades = np.array(df1.values)"
   ]
  },
  {
   "cell_type": "markdown",
   "metadata": {
    "colab_type": "text",
    "id": "QKGcdmR4GjNz"
   },
   "source": [
    "## B) Plotting the histogram"
   ]
  },
  {
   "cell_type": "code",
   "execution_count": 34,
   "metadata": {
    "colab": {},
    "colab_type": "code",
    "collapsed": true,
    "id": "odr-1D9EGuQd"
   },
   "outputs": [
    {
     "name": "stdout",
     "output_type": "stream",
     "text": [
      "8\n"
     ]
    },
    {
     "data": {
      "image/png": "[encoded data removed]",
      "text/plain": [
       "<Figure size 432x288 with 1 Axes>"
      ]
     },
     "metadata": {
      "needs_background": "light"
     },
     "output_type": "display_data"
    }
   ],
   "source": [
    "import math\n",
    "import matplotlib.pyplot as plt\n",
    "# get the count of grades (done)\n",
    "n = grades.shape[0] # .shape[0] returns the value of the 1st dimension\n",
    "\n",
    "# estimate the number of bins\n",
    "k = math.ceil(1+math.log2(n))\n",
    "print (k)\n",
    "\n",
    "# use np.histogram to generate the bins edges and count at each bin\n",
    "edges, bins = np.histogram(grades,k)\n",
    "\n",
    "# plot the histogram using the previously estimated edges (done for you)\n",
    "plt.hist(grades, bins)  # arguments are passed to np.histogram\n",
    "plt.title(\"Histogram of grades\")\n",
    "plt.show()"
   ]
  },
  {
   "cell_type": "markdown",
   "metadata": {
    "colab_type": "text",
    "id": "qv62NmEAIJCt"
   },
   "source": [
    "## C) Testing normality"
   ]
  },
  {
   "cell_type": "code",
   "execution_count": null,
   "metadata": {
    "colab": {},
    "colab_type": "code",
    "id": "zId3OSUNIsVJ"
   },
   "outputs": [],
   "source": []
  },
  {
   "cell_type": "code",
   "execution_count": null,
   "metadata": {},
   "outputs": [],
   "source": []
  }
 ],
 "metadata": {
  "colab": {
   "name": "histograms.ipynb",
   "provenance": [],
   "version": "0.3.2"
  },
  "kernelspec": {
   "display_name": "Python 3",
   "language": "python",
   "name": "python3"
  },
  "language_info": {
   "codemirror_mode": {
    "name": "ipython",
    "version": 3
   },
   "file_extension": ".py",
   "mimetype": "text/x-python",
   "name": "python",
   "nbconvert_exporter": "python",
   "pygments_lexer": "ipython3",
   "version": "3.7.1"
  }
 },
 "nbformat": 4,
 "nbformat_minor": 1
}
